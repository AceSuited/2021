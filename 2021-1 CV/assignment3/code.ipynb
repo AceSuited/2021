{
  "nbformat": 4,
  "nbformat_minor": 5,
  "metadata": {
    "kernelspec": {
      "display_name": "Python 3",
      "language": "python",
      "name": "python3"
    },
    "language_info": {
      "codemirror_mode": {
        "name": "ipython",
        "version": 3
      },
      "file_extension": ".py",
      "mimetype": "text/x-python",
      "name": "python",
      "nbconvert_exporter": "python",
      "pygments_lexer": "ipython3",
      "version": "3.8.8"
    },
    "colab": {
      "name": "project3.ipynb",
      "provenance": [],
      "collapsed_sections": []
    },
    "accelerator": "GPU",
    "widgets": {
      "application/vnd.jupyter.widget-state+json": {
        "a5d291a9959040ff91c1ee6fc7371440": {
          "model_module": "@jupyter-widgets/controls",
          "model_name": "HBoxModel",
          "state": {
            "_view_name": "HBoxView",
            "_dom_classes": [],
            "_model_name": "HBoxModel",
            "_view_module": "@jupyter-widgets/controls",
            "_model_module_version": "1.5.0",
            "_view_count": null,
            "_view_module_version": "1.5.0",
            "box_style": "",
            "layout": "IPY_MODEL_9af83bf06d614431908114b57cdf05eb",
            "_model_module": "@jupyter-widgets/controls",
            "children": [
              "IPY_MODEL_7dfb728449284f619b73ba3b551e74d6",
              "IPY_MODEL_0203fa28a146464c923e28d08bf3e096"
            ]
          }
        },
        "9af83bf06d614431908114b57cdf05eb": {
          "model_module": "@jupyter-widgets/base",
          "model_name": "LayoutModel",
          "state": {
            "_view_name": "LayoutView",
            "grid_template_rows": null,
            "right": null,
            "justify_content": null,
            "_view_module": "@jupyter-widgets/base",
            "overflow": null,
            "_model_module_version": "1.2.0",
            "_view_count": null,
            "flex_flow": null,
            "width": null,
            "min_width": null,
            "border": null,
            "align_items": null,
            "bottom": null,
            "_model_module": "@jupyter-widgets/base",
            "top": null,
            "grid_column": null,
            "overflow_y": null,
            "overflow_x": null,
            "grid_auto_flow": null,
            "grid_area": null,
            "grid_template_columns": null,
            "flex": null,
            "_model_name": "LayoutModel",
            "justify_items": null,
            "grid_row": null,
            "max_height": null,
            "align_content": null,
            "visibility": null,
            "align_self": null,
            "height": null,
            "min_height": null,
            "padding": null,
            "grid_auto_rows": null,
            "grid_gap": null,
            "max_width": null,
            "order": null,
            "_view_module_version": "1.2.0",
            "grid_template_areas": null,
            "object_position": null,
            "object_fit": null,
            "grid_auto_columns": null,
            "margin": null,
            "display": null,
            "left": null
          }
        },
        "7dfb728449284f619b73ba3b551e74d6": {
          "model_module": "@jupyter-widgets/controls",
          "model_name": "FloatProgressModel",
          "state": {
            "_view_name": "ProgressView",
            "style": "IPY_MODEL_ccf11d83326545cab4caebbac081364d",
            "_dom_classes": [],
            "description": "",
            "_model_name": "FloatProgressModel",
            "bar_style": "success",
            "max": 26421880,
            "_view_module": "@jupyter-widgets/controls",
            "_model_module_version": "1.5.0",
            "value": 26421880,
            "_view_count": null,
            "_view_module_version": "1.5.0",
            "orientation": "horizontal",
            "min": 0,
            "description_tooltip": null,
            "_model_module": "@jupyter-widgets/controls",
            "layout": "IPY_MODEL_1801ab731c834ddcab3767869d0c2855"
          }
        },
        "0203fa28a146464c923e28d08bf3e096": {
          "model_module": "@jupyter-widgets/controls",
          "model_name": "HTMLModel",
          "state": {
            "_view_name": "HTMLView",
            "style": "IPY_MODEL_df51b5db835248e7bf1678170656dde6",
            "_dom_classes": [],
            "description": "",
            "_model_name": "HTMLModel",
            "placeholder": "​",
            "_view_module": "@jupyter-widgets/controls",
            "_model_module_version": "1.5.0",
            "value": " 26422272/? [02:48&lt;00:00, 156718.86it/s]",
            "_view_count": null,
            "_view_module_version": "1.5.0",
            "description_tooltip": null,
            "_model_module": "@jupyter-widgets/controls",
            "layout": "IPY_MODEL_daca358d3d3142ffa228e1e6cc208883"
          }
        },
        "ccf11d83326545cab4caebbac081364d": {
          "model_module": "@jupyter-widgets/controls",
          "model_name": "ProgressStyleModel",
          "state": {
            "_view_name": "StyleView",
            "_model_name": "ProgressStyleModel",
            "description_width": "initial",
            "_view_module": "@jupyter-widgets/base",
            "_model_module_version": "1.5.0",
            "_view_count": null,
            "_view_module_version": "1.2.0",
            "bar_color": null,
            "_model_module": "@jupyter-widgets/controls"
          }
        },
        "1801ab731c834ddcab3767869d0c2855": {
          "model_module": "@jupyter-widgets/base",
          "model_name": "LayoutModel",
          "state": {
            "_view_name": "LayoutView",
            "grid_template_rows": null,
            "right": null,
            "justify_content": null,
            "_view_module": "@jupyter-widgets/base",
            "overflow": null,
            "_model_module_version": "1.2.0",
            "_view_count": null,
            "flex_flow": null,
            "width": null,
            "min_width": null,
            "border": null,
            "align_items": null,
            "bottom": null,
            "_model_module": "@jupyter-widgets/base",
            "top": null,
            "grid_column": null,
            "overflow_y": null,
            "overflow_x": null,
            "grid_auto_flow": null,
            "grid_area": null,
            "grid_template_columns": null,
            "flex": null,
            "_model_name": "LayoutModel",
            "justify_items": null,
            "grid_row": null,
            "max_height": null,
            "align_content": null,
            "visibility": null,
            "align_self": null,
            "height": null,
            "min_height": null,
            "padding": null,
            "grid_auto_rows": null,
            "grid_gap": null,
            "max_width": null,
            "order": null,
            "_view_module_version": "1.2.0",
            "grid_template_areas": null,
            "object_position": null,
            "object_fit": null,
            "grid_auto_columns": null,
            "margin": null,
            "display": null,
            "left": null
          }
        },
        "df51b5db835248e7bf1678170656dde6": {
          "model_module": "@jupyter-widgets/controls",
          "model_name": "DescriptionStyleModel",
          "state": {
            "_view_name": "StyleView",
            "_model_name": "DescriptionStyleModel",
            "description_width": "",
            "_view_module": "@jupyter-widgets/base",
            "_model_module_version": "1.5.0",
            "_view_count": null,
            "_view_module_version": "1.2.0",
            "_model_module": "@jupyter-widgets/controls"
          }
        },
        "daca358d3d3142ffa228e1e6cc208883": {
          "model_module": "@jupyter-widgets/base",
          "model_name": "LayoutModel",
          "state": {
            "_view_name": "LayoutView",
            "grid_template_rows": null,
            "right": null,
            "justify_content": null,
            "_view_module": "@jupyter-widgets/base",
            "overflow": null,
            "_model_module_version": "1.2.0",
            "_view_count": null,
            "flex_flow": null,
            "width": null,
            "min_width": null,
            "border": null,
            "align_items": null,
            "bottom": null,
            "_model_module": "@jupyter-widgets/base",
            "top": null,
            "grid_column": null,
            "overflow_y": null,
            "overflow_x": null,
            "grid_auto_flow": null,
            "grid_area": null,
            "grid_template_columns": null,
            "flex": null,
            "_model_name": "LayoutModel",
            "justify_items": null,
            "grid_row": null,
            "max_height": null,
            "align_content": null,
            "visibility": null,
            "align_self": null,
            "height": null,
            "min_height": null,
            "padding": null,
            "grid_auto_rows": null,
            "grid_gap": null,
            "max_width": null,
            "order": null,
            "_view_module_version": "1.2.0",
            "grid_template_areas": null,
            "object_position": null,
            "object_fit": null,
            "grid_auto_columns": null,
            "margin": null,
            "display": null,
            "left": null
          }
        },
        "0476ea5648114c46885bfaea8f8b5d64": {
          "model_module": "@jupyter-widgets/controls",
          "model_name": "HBoxModel",
          "state": {
            "_view_name": "HBoxView",
            "_dom_classes": [],
            "_model_name": "HBoxModel",
            "_view_module": "@jupyter-widgets/controls",
            "_model_module_version": "1.5.0",
            "_view_count": null,
            "_view_module_version": "1.5.0",
            "box_style": "",
            "layout": "IPY_MODEL_a7b119223b124e36b71a6a771450f3a9",
            "_model_module": "@jupyter-widgets/controls",
            "children": [
              "IPY_MODEL_4255cee50e374fdea8793456083253f3",
              "IPY_MODEL_6fd1d10fdbfc46c68aa02aab66bfb22c"
            ]
          }
        },
        "a7b119223b124e36b71a6a771450f3a9": {
          "model_module": "@jupyter-widgets/base",
          "model_name": "LayoutModel",
          "state": {
            "_view_name": "LayoutView",
            "grid_template_rows": null,
            "right": null,
            "justify_content": null,
            "_view_module": "@jupyter-widgets/base",
            "overflow": null,
            "_model_module_version": "1.2.0",
            "_view_count": null,
            "flex_flow": null,
            "width": null,
            "min_width": null,
            "border": null,
            "align_items": null,
            "bottom": null,
            "_model_module": "@jupyter-widgets/base",
            "top": null,
            "grid_column": null,
            "overflow_y": null,
            "overflow_x": null,
            "grid_auto_flow": null,
            "grid_area": null,
            "grid_template_columns": null,
            "flex": null,
            "_model_name": "LayoutModel",
            "justify_items": null,
            "grid_row": null,
            "max_height": null,
            "align_content": null,
            "visibility": null,
            "align_self": null,
            "height": null,
            "min_height": null,
            "padding": null,
            "grid_auto_rows": null,
            "grid_gap": null,
            "max_width": null,
            "order": null,
            "_view_module_version": "1.2.0",
            "grid_template_areas": null,
            "object_position": null,
            "object_fit": null,
            "grid_auto_columns": null,
            "margin": null,
            "display": null,
            "left": null
          }
        },
        "4255cee50e374fdea8793456083253f3": {
          "model_module": "@jupyter-widgets/controls",
          "model_name": "FloatProgressModel",
          "state": {
            "_view_name": "ProgressView",
            "style": "IPY_MODEL_326ce67d05ff4514a13ca20cf50e7854",
            "_dom_classes": [],
            "description": "",
            "_model_name": "FloatProgressModel",
            "bar_style": "success",
            "max": 29515,
            "_view_module": "@jupyter-widgets/controls",
            "_model_module_version": "1.5.0",
            "value": 29515,
            "_view_count": null,
            "_view_module_version": "1.5.0",
            "orientation": "horizontal",
            "min": 0,
            "description_tooltip": null,
            "_model_module": "@jupyter-widgets/controls",
            "layout": "IPY_MODEL_d0b2ba0ec3234e3d910414b257740dcb"
          }
        },
        "6fd1d10fdbfc46c68aa02aab66bfb22c": {
          "model_module": "@jupyter-widgets/controls",
          "model_name": "HTMLModel",
          "state": {
            "_view_name": "HTMLView",
            "style": "IPY_MODEL_2f96a6523d00418dae9f33fdf8d1b6c1",
            "_dom_classes": [],
            "description": "",
            "_model_name": "HTMLModel",
            "placeholder": "​",
            "_view_module": "@jupyter-widgets/controls",
            "_model_module_version": "1.5.0",
            "value": " 29696/? [00:01&lt;00:00, 25756.96it/s]",
            "_view_count": null,
            "_view_module_version": "1.5.0",
            "description_tooltip": null,
            "_model_module": "@jupyter-widgets/controls",
            "layout": "IPY_MODEL_d417e7c87d8d40d9ab78548e2cb5fd8d"
          }
        },
        "326ce67d05ff4514a13ca20cf50e7854": {
          "model_module": "@jupyter-widgets/controls",
          "model_name": "ProgressStyleModel",
          "state": {
            "_view_name": "StyleView",
            "_model_name": "ProgressStyleModel",
            "description_width": "initial",
            "_view_module": "@jupyter-widgets/base",
            "_model_module_version": "1.5.0",
            "_view_count": null,
            "_view_module_version": "1.2.0",
            "bar_color": null,
            "_model_module": "@jupyter-widgets/controls"
          }
        },
        "d0b2ba0ec3234e3d910414b257740dcb": {
          "model_module": "@jupyter-widgets/base",
          "model_name": "LayoutModel",
          "state": {
            "_view_name": "LayoutView",
            "grid_template_rows": null,
            "right": null,
            "justify_content": null,
            "_view_module": "@jupyter-widgets/base",
            "overflow": null,
            "_model_module_version": "1.2.0",
            "_view_count": null,
            "flex_flow": null,
            "width": null,
            "min_width": null,
            "border": null,
            "align_items": null,
            "bottom": null,
            "_model_module": "@jupyter-widgets/base",
            "top": null,
            "grid_column": null,
            "overflow_y": null,
            "overflow_x": null,
            "grid_auto_flow": null,
            "grid_area": null,
            "grid_template_columns": null,
            "flex": null,
            "_model_name": "LayoutModel",
            "justify_items": null,
            "grid_row": null,
            "max_height": null,
            "align_content": null,
            "visibility": null,
            "align_self": null,
            "height": null,
            "min_height": null,
            "padding": null,
            "grid_auto_rows": null,
            "grid_gap": null,
            "max_width": null,
            "order": null,
            "_view_module_version": "1.2.0",
            "grid_template_areas": null,
            "object_position": null,
            "object_fit": null,
            "grid_auto_columns": null,
            "margin": null,
            "display": null,
            "left": null
          }
        },
        "2f96a6523d00418dae9f33fdf8d1b6c1": {
          "model_module": "@jupyter-widgets/controls",
          "model_name": "DescriptionStyleModel",
          "state": {
            "_view_name": "StyleView",
            "_model_name": "DescriptionStyleModel",
            "description_width": "",
            "_view_module": "@jupyter-widgets/base",
            "_model_module_version": "1.5.0",
            "_view_count": null,
            "_view_module_version": "1.2.0",
            "_model_module": "@jupyter-widgets/controls"
          }
        },
        "d417e7c87d8d40d9ab78548e2cb5fd8d": {
          "model_module": "@jupyter-widgets/base",
          "model_name": "LayoutModel",
          "state": {
            "_view_name": "LayoutView",
            "grid_template_rows": null,
            "right": null,
            "justify_content": null,
            "_view_module": "@jupyter-widgets/base",
            "overflow": null,
            "_model_module_version": "1.2.0",
            "_view_count": null,
            "flex_flow": null,
            "width": null,
            "min_width": null,
            "border": null,
            "align_items": null,
            "bottom": null,
            "_model_module": "@jupyter-widgets/base",
            "top": null,
            "grid_column": null,
            "overflow_y": null,
            "overflow_x": null,
            "grid_auto_flow": null,
            "grid_area": null,
            "grid_template_columns": null,
            "flex": null,
            "_model_name": "LayoutModel",
            "justify_items": null,
            "grid_row": null,
            "max_height": null,
            "align_content": null,
            "visibility": null,
            "align_self": null,
            "height": null,
            "min_height": null,
            "padding": null,
            "grid_auto_rows": null,
            "grid_gap": null,
            "max_width": null,
            "order": null,
            "_view_module_version": "1.2.0",
            "grid_template_areas": null,
            "object_position": null,
            "object_fit": null,
            "grid_auto_columns": null,
            "margin": null,
            "display": null,
            "left": null
          }
        },
        "c2795c41677745e8a679c34df9201dc9": {
          "model_module": "@jupyter-widgets/controls",
          "model_name": "HBoxModel",
          "state": {
            "_view_name": "HBoxView",
            "_dom_classes": [],
            "_model_name": "HBoxModel",
            "_view_module": "@jupyter-widgets/controls",
            "_model_module_version": "1.5.0",
            "_view_count": null,
            "_view_module_version": "1.5.0",
            "box_style": "",
            "layout": "IPY_MODEL_11d19c24d761410fa09fc76b0bcf7601",
            "_model_module": "@jupyter-widgets/controls",
            "children": [
              "IPY_MODEL_45f6e53457ac46e3ad5b29104f421e74",
              "IPY_MODEL_dc8f39288bac4e438c77fe91a51715e6"
            ]
          }
        },
        "11d19c24d761410fa09fc76b0bcf7601": {
          "model_module": "@jupyter-widgets/base",
          "model_name": "LayoutModel",
          "state": {
            "_view_name": "LayoutView",
            "grid_template_rows": null,
            "right": null,
            "justify_content": null,
            "_view_module": "@jupyter-widgets/base",
            "overflow": null,
            "_model_module_version": "1.2.0",
            "_view_count": null,
            "flex_flow": null,
            "width": null,
            "min_width": null,
            "border": null,
            "align_items": null,
            "bottom": null,
            "_model_module": "@jupyter-widgets/base",
            "top": null,
            "grid_column": null,
            "overflow_y": null,
            "overflow_x": null,
            "grid_auto_flow": null,
            "grid_area": null,
            "grid_template_columns": null,
            "flex": null,
            "_model_name": "LayoutModel",
            "justify_items": null,
            "grid_row": null,
            "max_height": null,
            "align_content": null,
            "visibility": null,
            "align_self": null,
            "height": null,
            "min_height": null,
            "padding": null,
            "grid_auto_rows": null,
            "grid_gap": null,
            "max_width": null,
            "order": null,
            "_view_module_version": "1.2.0",
            "grid_template_areas": null,
            "object_position": null,
            "object_fit": null,
            "grid_auto_columns": null,
            "margin": null,
            "display": null,
            "left": null
          }
        },
        "45f6e53457ac46e3ad5b29104f421e74": {
          "model_module": "@jupyter-widgets/controls",
          "model_name": "FloatProgressModel",
          "state": {
            "_view_name": "ProgressView",
            "style": "IPY_MODEL_bedf317db0744b7597fe3258e588367c",
            "_dom_classes": [],
            "description": "",
            "_model_name": "FloatProgressModel",
            "bar_style": "success",
            "max": 4422102,
            "_view_module": "@jupyter-widgets/controls",
            "_model_module_version": "1.5.0",
            "value": 4422102,
            "_view_count": null,
            "_view_module_version": "1.5.0",
            "orientation": "horizontal",
            "min": 0,
            "description_tooltip": null,
            "_model_module": "@jupyter-widgets/controls",
            "layout": "IPY_MODEL_24f3a88ccf3148978f6a462d817a4bfe"
          }
        },
        "dc8f39288bac4e438c77fe91a51715e6": {
          "model_module": "@jupyter-widgets/controls",
          "model_name": "HTMLModel",
          "state": {
            "_view_name": "HTMLView",
            "style": "IPY_MODEL_481202bcdd5d44c2bb55a80d3f9d2370",
            "_dom_classes": [],
            "description": "",
            "_model_name": "HTMLModel",
            "placeholder": "​",
            "_view_module": "@jupyter-widgets/controls",
            "_model_module_version": "1.5.0",
            "value": " 4422656/? [02:45&lt;00:00, 26674.50it/s]",
            "_view_count": null,
            "_view_module_version": "1.5.0",
            "description_tooltip": null,
            "_model_module": "@jupyter-widgets/controls",
            "layout": "IPY_MODEL_8258bc1f47614c3e8264fedd4282d5a2"
          }
        },
        "bedf317db0744b7597fe3258e588367c": {
          "model_module": "@jupyter-widgets/controls",
          "model_name": "ProgressStyleModel",
          "state": {
            "_view_name": "StyleView",
            "_model_name": "ProgressStyleModel",
            "description_width": "initial",
            "_view_module": "@jupyter-widgets/base",
            "_model_module_version": "1.5.0",
            "_view_count": null,
            "_view_module_version": "1.2.0",
            "bar_color": null,
            "_model_module": "@jupyter-widgets/controls"
          }
        },
        "24f3a88ccf3148978f6a462d817a4bfe": {
          "model_module": "@jupyter-widgets/base",
          "model_name": "LayoutModel",
          "state": {
            "_view_name": "LayoutView",
            "grid_template_rows": null,
            "right": null,
            "justify_content": null,
            "_view_module": "@jupyter-widgets/base",
            "overflow": null,
            "_model_module_version": "1.2.0",
            "_view_count": null,
            "flex_flow": null,
            "width": null,
            "min_width": null,
            "border": null,
            "align_items": null,
            "bottom": null,
            "_model_module": "@jupyter-widgets/base",
            "top": null,
            "grid_column": null,
            "overflow_y": null,
            "overflow_x": null,
            "grid_auto_flow": null,
            "grid_area": null,
            "grid_template_columns": null,
            "flex": null,
            "_model_name": "LayoutModel",
            "justify_items": null,
            "grid_row": null,
            "max_height": null,
            "align_content": null,
            "visibility": null,
            "align_self": null,
            "height": null,
            "min_height": null,
            "padding": null,
            "grid_auto_rows": null,
            "grid_gap": null,
            "max_width": null,
            "order": null,
            "_view_module_version": "1.2.0",
            "grid_template_areas": null,
            "object_position": null,
            "object_fit": null,
            "grid_auto_columns": null,
            "margin": null,
            "display": null,
            "left": null
          }
        },
        "481202bcdd5d44c2bb55a80d3f9d2370": {
          "model_module": "@jupyter-widgets/controls",
          "model_name": "DescriptionStyleModel",
          "state": {
            "_view_name": "StyleView",
            "_model_name": "DescriptionStyleModel",
            "description_width": "",
            "_view_module": "@jupyter-widgets/base",
            "_model_module_version": "1.5.0",
            "_view_count": null,
            "_view_module_version": "1.2.0",
            "_model_module": "@jupyter-widgets/controls"
          }
        },
        "8258bc1f47614c3e8264fedd4282d5a2": {
          "model_module": "@jupyter-widgets/base",
          "model_name": "LayoutModel",
          "state": {
            "_view_name": "LayoutView",
            "grid_template_rows": null,
            "right": null,
            "justify_content": null,
            "_view_module": "@jupyter-widgets/base",
            "overflow": null,
            "_model_module_version": "1.2.0",
            "_view_count": null,
            "flex_flow": null,
            "width": null,
            "min_width": null,
            "border": null,
            "align_items": null,
            "bottom": null,
            "_model_module": "@jupyter-widgets/base",
            "top": null,
            "grid_column": null,
            "overflow_y": null,
            "overflow_x": null,
            "grid_auto_flow": null,
            "grid_area": null,
            "grid_template_columns": null,
            "flex": null,
            "_model_name": "LayoutModel",
            "justify_items": null,
            "grid_row": null,
            "max_height": null,
            "align_content": null,
            "visibility": null,
            "align_self": null,
            "height": null,
            "min_height": null,
            "padding": null,
            "grid_auto_rows": null,
            "grid_gap": null,
            "max_width": null,
            "order": null,
            "_view_module_version": "1.2.0",
            "grid_template_areas": null,
            "object_position": null,
            "object_fit": null,
            "grid_auto_columns": null,
            "margin": null,
            "display": null,
            "left": null
          }
        },
        "19e5ab3f81e24f34a53e035ccad4fcd8": {
          "model_module": "@jupyter-widgets/controls",
          "model_name": "HBoxModel",
          "state": {
            "_view_name": "HBoxView",
            "_dom_classes": [],
            "_model_name": "HBoxModel",
            "_view_module": "@jupyter-widgets/controls",
            "_model_module_version": "1.5.0",
            "_view_count": null,
            "_view_module_version": "1.5.0",
            "box_style": "",
            "layout": "IPY_MODEL_fd43e8ca7a5f4d11a56cd5e355f60ce7",
            "_model_module": "@jupyter-widgets/controls",
            "children": [
              "IPY_MODEL_b3feb87edbc642228f2440dbe4366db0",
              "IPY_MODEL_9d486a846fe84446897280367fa9d578"
            ]
          }
        },
        "fd43e8ca7a5f4d11a56cd5e355f60ce7": {
          "model_module": "@jupyter-widgets/base",
          "model_name": "LayoutModel",
          "state": {
            "_view_name": "LayoutView",
            "grid_template_rows": null,
            "right": null,
            "justify_content": null,
            "_view_module": "@jupyter-widgets/base",
            "overflow": null,
            "_model_module_version": "1.2.0",
            "_view_count": null,
            "flex_flow": null,
            "width": null,
            "min_width": null,
            "border": null,
            "align_items": null,
            "bottom": null,
            "_model_module": "@jupyter-widgets/base",
            "top": null,
            "grid_column": null,
            "overflow_y": null,
            "overflow_x": null,
            "grid_auto_flow": null,
            "grid_area": null,
            "grid_template_columns": null,
            "flex": null,
            "_model_name": "LayoutModel",
            "justify_items": null,
            "grid_row": null,
            "max_height": null,
            "align_content": null,
            "visibility": null,
            "align_self": null,
            "height": null,
            "min_height": null,
            "padding": null,
            "grid_auto_rows": null,
            "grid_gap": null,
            "max_width": null,
            "order": null,
            "_view_module_version": "1.2.0",
            "grid_template_areas": null,
            "object_position": null,
            "object_fit": null,
            "grid_auto_columns": null,
            "margin": null,
            "display": null,
            "left": null
          }
        },
        "b3feb87edbc642228f2440dbe4366db0": {
          "model_module": "@jupyter-widgets/controls",
          "model_name": "FloatProgressModel",
          "state": {
            "_view_name": "ProgressView",
            "style": "IPY_MODEL_44fafe05feae43f08a64e27fab8adf9c",
            "_dom_classes": [],
            "description": "",
            "_model_name": "FloatProgressModel",
            "bar_style": "success",
            "max": 5148,
            "_view_module": "@jupyter-widgets/controls",
            "_model_module_version": "1.5.0",
            "value": 5148,
            "_view_count": null,
            "_view_module_version": "1.5.0",
            "orientation": "horizontal",
            "min": 0,
            "description_tooltip": null,
            "_model_module": "@jupyter-widgets/controls",
            "layout": "IPY_MODEL_c9d533218d9b4b6089802e48b3e6cc1c"
          }
        },
        "9d486a846fe84446897280367fa9d578": {
          "model_module": "@jupyter-widgets/controls",
          "model_name": "HTMLModel",
          "state": {
            "_view_name": "HTMLView",
            "style": "IPY_MODEL_22f73d2e3cc646bda85f3387c3fa8802",
            "_dom_classes": [],
            "description": "",
            "_model_name": "HTMLModel",
            "placeholder": "​",
            "_view_module": "@jupyter-widgets/controls",
            "_model_module_version": "1.5.0",
            "value": " 6144/? [00:12&lt;00:00, 492.71it/s]",
            "_view_count": null,
            "_view_module_version": "1.5.0",
            "description_tooltip": null,
            "_model_module": "@jupyter-widgets/controls",
            "layout": "IPY_MODEL_70e4daf4932846a9bc7540209404530e"
          }
        },
        "44fafe05feae43f08a64e27fab8adf9c": {
          "model_module": "@jupyter-widgets/controls",
          "model_name": "ProgressStyleModel",
          "state": {
            "_view_name": "StyleView",
            "_model_name": "ProgressStyleModel",
            "description_width": "initial",
            "_view_module": "@jupyter-widgets/base",
            "_model_module_version": "1.5.0",
            "_view_count": null,
            "_view_module_version": "1.2.0",
            "bar_color": null,
            "_model_module": "@jupyter-widgets/controls"
          }
        },
        "c9d533218d9b4b6089802e48b3e6cc1c": {
          "model_module": "@jupyter-widgets/base",
          "model_name": "LayoutModel",
          "state": {
            "_view_name": "LayoutView",
            "grid_template_rows": null,
            "right": null,
            "justify_content": null,
            "_view_module": "@jupyter-widgets/base",
            "overflow": null,
            "_model_module_version": "1.2.0",
            "_view_count": null,
            "flex_flow": null,
            "width": null,
            "min_width": null,
            "border": null,
            "align_items": null,
            "bottom": null,
            "_model_module": "@jupyter-widgets/base",
            "top": null,
            "grid_column": null,
            "overflow_y": null,
            "overflow_x": null,
            "grid_auto_flow": null,
            "grid_area": null,
            "grid_template_columns": null,
            "flex": null,
            "_model_name": "LayoutModel",
            "justify_items": null,
            "grid_row": null,
            "max_height": null,
            "align_content": null,
            "visibility": null,
            "align_self": null,
            "height": null,
            "min_height": null,
            "padding": null,
            "grid_auto_rows": null,
            "grid_gap": null,
            "max_width": null,
            "order": null,
            "_view_module_version": "1.2.0",
            "grid_template_areas": null,
            "object_position": null,
            "object_fit": null,
            "grid_auto_columns": null,
            "margin": null,
            "display": null,
            "left": null
          }
        },
        "22f73d2e3cc646bda85f3387c3fa8802": {
          "model_module": "@jupyter-widgets/controls",
          "model_name": "DescriptionStyleModel",
          "state": {
            "_view_name": "StyleView",
            "_model_name": "DescriptionStyleModel",
            "description_width": "",
            "_view_module": "@jupyter-widgets/base",
            "_model_module_version": "1.5.0",
            "_view_count": null,
            "_view_module_version": "1.2.0",
            "_model_module": "@jupyter-widgets/controls"
          }
        },
        "70e4daf4932846a9bc7540209404530e": {
          "model_module": "@jupyter-widgets/base",
          "model_name": "LayoutModel",
          "state": {
            "_view_name": "LayoutView",
            "grid_template_rows": null,
            "right": null,
            "justify_content": null,
            "_view_module": "@jupyter-widgets/base",
            "overflow": null,
            "_model_module_version": "1.2.0",
            "_view_count": null,
            "flex_flow": null,
            "width": null,
            "min_width": null,
            "border": null,
            "align_items": null,
            "bottom": null,
            "_model_module": "@jupyter-widgets/base",
            "top": null,
            "grid_column": null,
            "overflow_y": null,
            "overflow_x": null,
            "grid_auto_flow": null,
            "grid_area": null,
            "grid_template_columns": null,
            "flex": null,
            "_model_name": "LayoutModel",
            "justify_items": null,
            "grid_row": null,
            "max_height": null,
            "align_content": null,
            "visibility": null,
            "align_self": null,
            "height": null,
            "min_height": null,
            "padding": null,
            "grid_auto_rows": null,
            "grid_gap": null,
            "max_width": null,
            "order": null,
            "_view_module_version": "1.2.0",
            "grid_template_areas": null,
            "object_position": null,
            "object_fit": null,
            "grid_auto_columns": null,
            "margin": null,
            "display": null,
            "left": null
          }
        }
      }
    }
  },
  "cells": [
    {
      "cell_type": "code",
      "metadata": {
        "colab": {
          "base_uri": "https://localhost:8080/",
          "height": 35
        },
        "id": "830ea7c9",
        "outputId": "c02492c2-7c92-40f2-c0f2-d05fed69685c"
      },
      "source": [
        "import torch \n",
        "import torch.nn as nn\n",
        "from torch.utils.data import DataLoader\n",
        "import torchvision\n",
        "import torchvision.datasets as datasets\n",
        "import torchvision.transforms as transforms\n",
        "import matplotlib.pyplot as plt\n",
        "import numpy as np\n",
        "\n",
        "\n",
        "device = \"cuda\" if torch.cuda.is_available() else \"cpu\"\n",
        "device"
      ],
      "id": "830ea7c9",
      "execution_count": 4,
      "outputs": [
        {
          "output_type": "execute_result",
          "data": {
            "application/vnd.google.colaboratory.intrinsic+json": {
              "type": "string"
            },
            "text/plain": [
              "'cuda'"
            ]
          },
          "metadata": {
            "tags": []
          },
          "execution_count": 4
        }
      ]
    },
    {
      "cell_type": "code",
      "metadata": {
        "id": "4dd72346",
        "colab": {
          "base_uri": "https://localhost:8080/",
          "height": 592,
          "referenced_widgets": [
            "a5d291a9959040ff91c1ee6fc7371440",
            "9af83bf06d614431908114b57cdf05eb",
            "7dfb728449284f619b73ba3b551e74d6",
            "0203fa28a146464c923e28d08bf3e096",
            "ccf11d83326545cab4caebbac081364d",
            "1801ab731c834ddcab3767869d0c2855",
            "df51b5db835248e7bf1678170656dde6",
            "daca358d3d3142ffa228e1e6cc208883",
            "0476ea5648114c46885bfaea8f8b5d64",
            "a7b119223b124e36b71a6a771450f3a9",
            "4255cee50e374fdea8793456083253f3",
            "6fd1d10fdbfc46c68aa02aab66bfb22c",
            "326ce67d05ff4514a13ca20cf50e7854",
            "d0b2ba0ec3234e3d910414b257740dcb",
            "2f96a6523d00418dae9f33fdf8d1b6c1",
            "d417e7c87d8d40d9ab78548e2cb5fd8d",
            "c2795c41677745e8a679c34df9201dc9",
            "11d19c24d761410fa09fc76b0bcf7601",
            "45f6e53457ac46e3ad5b29104f421e74",
            "dc8f39288bac4e438c77fe91a51715e6",
            "bedf317db0744b7597fe3258e588367c",
            "24f3a88ccf3148978f6a462d817a4bfe",
            "481202bcdd5d44c2bb55a80d3f9d2370",
            "8258bc1f47614c3e8264fedd4282d5a2",
            "19e5ab3f81e24f34a53e035ccad4fcd8",
            "fd43e8ca7a5f4d11a56cd5e355f60ce7",
            "b3feb87edbc642228f2440dbe4366db0",
            "9d486a846fe84446897280367fa9d578",
            "44fafe05feae43f08a64e27fab8adf9c",
            "c9d533218d9b4b6089802e48b3e6cc1c",
            "22f73d2e3cc646bda85f3387c3fa8802",
            "70e4daf4932846a9bc7540209404530e"
          ]
        },
        "outputId": "e1b689ac-0df4-4fc0-b3c8-94d53b85a034"
      },
      "source": [
        "# hyper parameter setting\n",
        "batch_size = 100\n",
        "num_epochs = 10\n",
        "learning_rate = 0.001\n",
        "\n",
        "\n",
        "# Prepare Dataset\n",
        "path = './'\n",
        "\n",
        "# Normalize dataset\n",
        "transform = transforms.Compose([transforms.ToTensor(), transforms.Normalize(mean=(0.5,), std=(0.5,))])\n",
        "\n",
        "# Download dataset \n",
        "train_data = datasets.FashionMNIST(path, train=True, transform=transform, download=True)\n",
        "test_data = datasets.FashionMNIST(path, train=False, transform=transform, download=True)\n",
        "\n",
        "# Make Dataloader\n",
        "train_loader = DataLoader(train_data, batch_size=batch_size, shuffle=True)\n",
        "test_loader = DataLoader(test_data, batch_size= batch_size)"
      ],
      "id": "4dd72346",
      "execution_count": 5,
      "outputs": [
        {
          "output_type": "stream",
          "text": [
            "Downloading http://fashion-mnist.s3-website.eu-central-1.amazonaws.com/train-images-idx3-ubyte.gz\n",
            "Downloading http://fashion-mnist.s3-website.eu-central-1.amazonaws.com/train-images-idx3-ubyte.gz to ./FashionMNIST/raw/train-images-idx3-ubyte.gz\n"
          ],
          "name": "stdout"
        },
        {
          "output_type": "display_data",
          "data": {
            "application/vnd.jupyter.widget-view+json": {
              "model_id": "a5d291a9959040ff91c1ee6fc7371440",
              "version_minor": 0,
              "version_major": 2
            },
            "text/plain": [
              "HBox(children=(FloatProgress(value=0.0, max=26421880.0), HTML(value='')))"
            ]
          },
          "metadata": {
            "tags": []
          }
        },
        {
          "output_type": "stream",
          "text": [
            "\n",
            "Extracting ./FashionMNIST/raw/train-images-idx3-ubyte.gz to ./FashionMNIST/raw\n",
            "\n",
            "Downloading http://fashion-mnist.s3-website.eu-central-1.amazonaws.com/train-labels-idx1-ubyte.gz\n",
            "Downloading http://fashion-mnist.s3-website.eu-central-1.amazonaws.com/train-labels-idx1-ubyte.gz to ./FashionMNIST/raw/train-labels-idx1-ubyte.gz\n"
          ],
          "name": "stdout"
        },
        {
          "output_type": "display_data",
          "data": {
            "application/vnd.jupyter.widget-view+json": {
              "model_id": "0476ea5648114c46885bfaea8f8b5d64",
              "version_minor": 0,
              "version_major": 2
            },
            "text/plain": [
              "HBox(children=(FloatProgress(value=0.0, max=29515.0), HTML(value='')))"
            ]
          },
          "metadata": {
            "tags": []
          }
        },
        {
          "output_type": "stream",
          "text": [
            "\n",
            "Extracting ./FashionMNIST/raw/train-labels-idx1-ubyte.gz to ./FashionMNIST/raw\n",
            "\n",
            "Downloading http://fashion-mnist.s3-website.eu-central-1.amazonaws.com/t10k-images-idx3-ubyte.gz\n",
            "Downloading http://fashion-mnist.s3-website.eu-central-1.amazonaws.com/t10k-images-idx3-ubyte.gz to ./FashionMNIST/raw/t10k-images-idx3-ubyte.gz\n"
          ],
          "name": "stdout"
        },
        {
          "output_type": "display_data",
          "data": {
            "application/vnd.jupyter.widget-view+json": {
              "model_id": "c2795c41677745e8a679c34df9201dc9",
              "version_minor": 0,
              "version_major": 2
            },
            "text/plain": [
              "HBox(children=(FloatProgress(value=0.0, max=4422102.0), HTML(value='')))"
            ]
          },
          "metadata": {
            "tags": []
          }
        },
        {
          "output_type": "stream",
          "text": [
            "\n",
            "Extracting ./FashionMNIST/raw/t10k-images-idx3-ubyte.gz to ./FashionMNIST/raw\n",
            "\n",
            "Downloading http://fashion-mnist.s3-website.eu-central-1.amazonaws.com/t10k-labels-idx1-ubyte.gz\n",
            "Downloading http://fashion-mnist.s3-website.eu-central-1.amazonaws.com/t10k-labels-idx1-ubyte.gz to ./FashionMNIST/raw/t10k-labels-idx1-ubyte.gz\n"
          ],
          "name": "stdout"
        },
        {
          "output_type": "display_data",
          "data": {
            "application/vnd.jupyter.widget-view+json": {
              "model_id": "19e5ab3f81e24f34a53e035ccad4fcd8",
              "version_minor": 0,
              "version_major": 2
            },
            "text/plain": [
              "HBox(children=(FloatProgress(value=0.0, max=5148.0), HTML(value='')))"
            ]
          },
          "metadata": {
            "tags": []
          }
        },
        {
          "output_type": "stream",
          "text": [
            "\n",
            "Extracting ./FashionMNIST/raw/t10k-labels-idx1-ubyte.gz to ./FashionMNIST/raw\n",
            "\n",
            "Processing...\n",
            "Done!\n"
          ],
          "name": "stdout"
        },
        {
          "output_type": "stream",
          "text": [
            "/usr/local/lib/python3.7/dist-packages/torchvision/datasets/mnist.py:502: UserWarning: The given NumPy array is not writeable, and PyTorch does not support non-writeable tensors. This means you can write to the underlying (supposedly non-writeable) NumPy array using the tensor. You may want to copy the array to protect its data or make it writeable before converting it to a tensor. This type of warning will be suppressed for the rest of this program. (Triggered internally at  /pytorch/torch/csrc/utils/tensor_numpy.cpp:143.)\n",
            "  return torch.from_numpy(parsed.astype(m[2], copy=False)).view(*s)\n"
          ],
          "name": "stderr"
        }
      ]
    },
    {
      "cell_type": "code",
      "metadata": {
        "id": "8c185042"
      },
      "source": [
        "\n",
        "\n",
        "## Fully Connected Layer\n",
        "class FCN(nn.Module):\n",
        "    def __init__(self):\n",
        "        super(FCN, self).__init__()\n",
        "        self.layer1 = nn.Sequential(\n",
        "            \n",
        "            nn.Linear(28*28, 512,bias = True),\n",
        "            torch.nn.BatchNorm1d(512),\n",
        "            torch.nn.ReLU()    \n",
        "            \n",
        "        )\n",
        "        self.layer2 = nn.Sequential(\n",
        "            nn.Linear(512,10,bias=True), \n",
        "        )\n",
        "    \n",
        "    def forward(self, x):\n",
        "        x = x.view(x.size(0), -1) # flatten the input image\n",
        "        x = self.layer1(x)\n",
        "        x_out = self.layer2(x)\n",
        "        return x_out\n",
        "\n"
      ],
      "id": "8c185042",
      "execution_count": 7,
      "outputs": []
    },
    {
      "cell_type": "code",
      "metadata": {
        "id": "7b2d7f71",
        "colab": {
          "base_uri": "https://localhost:8080/"
        },
        "outputId": "d36862b1-03a9-4e72-9762-83a2b6140392"
      },
      "source": [
        "# method for initialize model`s weights using xavier normalization\n",
        "def initWeights(m):\n",
        "    if isinstance(m, nn.Linear): \n",
        "        nn.init.xavier_normal_(m.weight)\n",
        "\n",
        "# Create model and initialize model\n",
        "model_fcn = FCN().to(device)\n",
        "model_fcn.apply(initWeights)\n",
        "\n",
        "# Make Loss function and optimizer\n",
        "criterion = nn.CrossEntropyLoss()\n",
        "optimizer = torch.optim.Adam(model_fcn.parameters(), lr = learning_rate)\n",
        "\n",
        "print(model_fcn)"
      ],
      "id": "7b2d7f71",
      "execution_count": 8,
      "outputs": [
        {
          "output_type": "stream",
          "text": [
            "FCN(\n",
            "  (layer1): Sequential(\n",
            "    (0): Linear(in_features=784, out_features=512, bias=True)\n",
            "    (1): BatchNorm1d(512, eps=1e-05, momentum=0.1, affine=True, track_running_stats=True)\n",
            "    (2): ReLU()\n",
            "  )\n",
            "  (layer2): Sequential(\n",
            "    (0): Linear(in_features=512, out_features=10, bias=True)\n",
            "  )\n",
            ")\n"
          ],
          "name": "stdout"
        }
      ]
    },
    {
      "cell_type": "code",
      "metadata": {
        "colab": {
          "base_uri": "https://localhost:8080/"
        },
        "id": "8c09a8e3",
        "outputId": "0d6fe2e7-dc02-4d4e-943f-029bc380bc09"
      },
      "source": [
        "\n",
        "#  Train\n",
        "model_fcn.train()  # LeNet-5의 경우 model_fcn 대신 model_lenet을 사용\n",
        "loss_list_fcn = []  # LeNet-5의 경우 model_fcn 대신 model_lenet을 사용\n",
        "for epoch in range(num_epochs):\n",
        "\n",
        "    avg_loss=0\n",
        "    # loop until every batch dataset is learned by model\n",
        "    for i, (imgs, labels) in enumerate(train_loader):\n",
        "        # send it to gpu\n",
        "        imgs, labels = imgs.to(device), labels.to(device)\n",
        "        \n",
        "        # predict\n",
        "        prediction = model_fcn(imgs)  # LeNet-5의 경우 model_fcn 대신 model_lenet을 사용\n",
        "        \n",
        "       # set optimzer\n",
        "        optimizer.zero_grad()  \n",
        "\n",
        "        # calculate loss\n",
        "        loss = criterion(prediction, labels)    \n",
        "        \n",
        "        # learn\n",
        "        loss.backward()          \n",
        "        optimizer.step()\n",
        "        \n",
        "        # record avg loss\n",
        "        avg_loss += loss.item()\n",
        "        \n",
        "        # prin ith learning loss\n",
        "        if (i+1) % 100 == 0:\n",
        "            print('[{},  {}]  loss: {}'.format(epoch+1,  i+1, loss.item()))\n",
        "\n",
        "    # record avg loss for given batch data for later visulization\n",
        "    loss_list_fcn.append(avg_loss / len(train_loader))"
      ],
      "id": "8c09a8e3",
      "execution_count": 9,
      "outputs": [
        {
          "output_type": "stream",
          "text": [
            "[1,  100]  loss: 0.4903271496295929\n",
            "[1,  200]  loss: 0.36250656843185425\n",
            "[1,  300]  loss: 0.4087992012500763\n",
            "[1,  400]  loss: 0.5854552388191223\n",
            "[1,  500]  loss: 0.42846953868865967\n",
            "[1,  600]  loss: 0.22520023584365845\n",
            "[2,  100]  loss: 0.26174426078796387\n",
            "[2,  200]  loss: 0.28359198570251465\n",
            "[2,  300]  loss: 0.265684574842453\n",
            "[2,  400]  loss: 0.37319937348365784\n",
            "[2,  500]  loss: 0.4149552881717682\n",
            "[2,  600]  loss: 0.25045087933540344\n",
            "[3,  100]  loss: 0.2597442865371704\n",
            "[3,  200]  loss: 0.3471852242946625\n",
            "[3,  300]  loss: 0.21261557936668396\n",
            "[3,  400]  loss: 0.23157232999801636\n",
            "[3,  500]  loss: 0.3140323758125305\n",
            "[3,  600]  loss: 0.2373795509338379\n",
            "[4,  100]  loss: 0.2562309801578522\n",
            "[4,  200]  loss: 0.4407864809036255\n",
            "[4,  300]  loss: 0.3395770192146301\n",
            "[4,  400]  loss: 0.33585670590400696\n",
            "[4,  500]  loss: 0.16639775037765503\n",
            "[4,  600]  loss: 0.2597475051879883\n",
            "[5,  100]  loss: 0.1675359308719635\n",
            "[5,  200]  loss: 0.16257646679878235\n",
            "[5,  300]  loss: 0.1823066771030426\n",
            "[5,  400]  loss: 0.22439084947109222\n",
            "[5,  500]  loss: 0.18975192308425903\n",
            "[5,  600]  loss: 0.29315119981765747\n",
            "[6,  100]  loss: 0.27401962876319885\n",
            "[6,  200]  loss: 0.13025698065757751\n",
            "[6,  300]  loss: 0.1309128701686859\n",
            "[6,  400]  loss: 0.27781540155410767\n",
            "[6,  500]  loss: 0.22434377670288086\n",
            "[6,  600]  loss: 0.17177806794643402\n",
            "[7,  100]  loss: 0.18267518281936646\n",
            "[7,  200]  loss: 0.22951214015483856\n",
            "[7,  300]  loss: 0.3929957449436188\n",
            "[7,  400]  loss: 0.2364199310541153\n",
            "[7,  500]  loss: 0.17162303626537323\n",
            "[7,  600]  loss: 0.29088643193244934\n",
            "[8,  100]  loss: 0.2703947126865387\n",
            "[8,  200]  loss: 0.1653769612312317\n",
            "[8,  300]  loss: 0.2148672640323639\n",
            "[8,  400]  loss: 0.1587481051683426\n",
            "[8,  500]  loss: 0.18375684320926666\n",
            "[8,  600]  loss: 0.1789238303899765\n",
            "[9,  100]  loss: 0.19678223133087158\n",
            "[9,  200]  loss: 0.1481005698442459\n",
            "[9,  300]  loss: 0.14887191355228424\n",
            "[9,  400]  loss: 0.20040762424468994\n",
            "[9,  500]  loss: 0.26260003447532654\n",
            "[9,  600]  loss: 0.15498055517673492\n",
            "[10,  100]  loss: 0.18691574037075043\n",
            "[10,  200]  loss: 0.11213838309049606\n",
            "[10,  300]  loss: 0.13064174354076385\n",
            "[10,  400]  loss: 0.2646465301513672\n",
            "[10,  500]  loss: 0.1935080885887146\n",
            "[10,  600]  loss: 0.1273803561925888\n"
          ],
          "name": "stdout"
        }
      ]
    },
    {
      "cell_type": "code",
      "metadata": {
        "colab": {
          "base_uri": "https://localhost:8080/",
          "height": 300
        },
        "id": "708ea3d6",
        "outputId": "b469dd53-276b-4777-8ed6-3c67191331ab"
      },
      "source": [
        "# evaluate model after training\n",
        "\n",
        "model_fcn.eval()\n",
        "with torch.no_grad():\n",
        "    correct = 0\n",
        "    total = 0\n",
        "    for i, (imgs, labels) in enumerate(test_loader):\n",
        "        imgs, labels = imgs.to(device), labels.to(device)\n",
        "        prediction = model_fcn(imgs)\n",
        "        _, argmax = torch.max(prediction, 1) \n",
        "        total += imgs.size(0)\n",
        "        correct += (labels == argmax).sum().item()\n",
        "    \n",
        "    # print accuracy score\n",
        "    print(' accuracy of the fully connected network on {} images: {}%'.format(total, correct / total * 100))\n",
        "\n",
        "# visulize training result \n",
        "step = np.linspace(0,num_epochs,num_epochs)\n",
        "plt.plot(step,np.array(loss_list_fcn))"
      ],
      "id": "708ea3d6",
      "execution_count": 15,
      "outputs": [
        {
          "output_type": "stream",
          "text": [
            " accuracy of the fully connected network on 10000 images: 88.69%\n"
          ],
          "name": "stdout"
        },
        {
          "output_type": "execute_result",
          "data": {
            "text/plain": [
              "[<matplotlib.lines.Line2D at 0x7fe1a2f7e790>]"
            ]
          },
          "metadata": {
            "tags": []
          },
          "execution_count": 15
        },
        {
          "output_type": "display_data",
          "data": {
            "image/png": "[encoded data removed]",
            "text/plain": [
              "<Figure size 432x288 with 1 Axes>"
            ]
          },
          "metadata": {
            "tags": [],
            "needs_background": "light"
          }
        }
      ]
    },
    {
      "cell_type": "code",
      "metadata": {
        "id": "21b1eade"
      },
      "source": [
        "\n",
        "# define Lenet-5 model \n",
        "class Lenet_5(nn.Module):\n",
        "    def __init__(self):\n",
        "        super(Lenet_5,self).__init__()\n",
        "        self.layer1 = nn.Sequential(\n",
        "            \n",
        "            torch.nn.Conv2d(in_channels=1, out_channels=6,kernel_size=5,stride=1,padding=2),\n",
        "            torch.nn.Tanh(),\n",
        "            torch.nn.AvgPool2d(2,stride=2),\n",
        "        )\n",
        "        self.layer2=  nn.Sequential(\n",
        "            torch.nn.Conv2d(in_channels=6,out_channels=16, kernel_size=5,stride=1),\n",
        "            torch.nn.Tanh(),\n",
        "            torch.nn.AvgPool2d(2,stride=2),\n",
        "        )\n",
        "        self.layer3=  nn.Sequential(\n",
        "            torch.nn.Conv2d(in_channels=16,out_channels=120, kernel_size=5,stride=1),\n",
        "            torch.nn.Tanh(),\n",
        "            \n",
        "        )\n",
        "        self.fclayer1 = nn.Sequential(\n",
        "            torch.nn.Linear(120,84),\n",
        "            torch.nn.Tanh(),\n",
        "        )\n",
        "        self.fclayer2 = nn.Sequential(\n",
        "            nn.Linear(84,10),\n",
        "            \n",
        "        )\n",
        "    def forward(self, x):\n",
        "        x = self.layer1(x)\n",
        "        x = self.layer2(x)\n",
        "        x = self.layer3(x)\n",
        "        x = x.view(x.size(0), -1)\n",
        "        x = self.fclayer1(x)\n",
        "        x_out = self.fclayer2(x)\n",
        "        return x_out\n",
        "\n",
        "            \n",
        "\n",
        "\n",
        "\n",
        "\n"
      ],
      "id": "21b1eade",
      "execution_count": 13,
      "outputs": []
    },
    {
      "cell_type": "code",
      "metadata": {
        "id": "5palKkCWaDkt"
      },
      "source": [
        "## Lenet-5 modified(task2)\n",
        "\n",
        "# torch.manual_seed(777)\n",
        "# torch.backends.cudnn.deterministic = True\n",
        "# torch.backends.cudnn.benchmark = False\n",
        "# np.random.seed(777)\n",
        "# # define Lenet-5 model \n",
        "# class Lenet_5_modified(nn.Module):\n",
        "#     def __init__(self):\n",
        "#         super(Lenet_5_modified,self).__init__()\n",
        "#         self.layer1 = nn.Sequential(\n",
        "            \n",
        "#             torch.nn.Conv2d(in_channels=1, out_channels=6, kernel_size=5,stride=1,padding=2),\n",
        "#             torch.nn.BatchNorm2d(6),\n",
        "#             torch.nn.ReLU(),\n",
        "#             torch.nn.MaxPool2d(2,stride=2),\n",
        "            \n",
        "#         )\n",
        "#         self.layer2=  nn.Sequential(\n",
        "#             torch.nn.Conv2d(in_channels=6,out_channels=16, kernel_size=5,stride=1),\n",
        "#             torch.nn.BatchNorm2d(16),\n",
        "#             torch.nn.ReLU(),\n",
        "#             torch.nn.MaxPool2d(2,stride=2),\n",
        "            \n",
        "#         )\n",
        "#         self.layer3=  nn.Sequential(\n",
        "#             torch.nn.Conv2d(in_channels=16,out_channels=120, kernel_size=5,stride=1),\n",
        "#             torch.nn.BatchNorm2d(120),\n",
        "#             torch.nn.ReLU()\n",
        "            \n",
        "#         )\n",
        "#         self.fclayer1 = nn.Sequential(\n",
        "#             torch.nn.Linear(120,84),\n",
        "#             torch.nn.ReLU()\n",
        "#         )\n",
        "#         self.fclayer2 = nn.Sequential(\n",
        "#             nn.Linear(84,10)\n",
        "#         )\n",
        "\n",
        "#         self.dropout = torch.nn.Dropout(0.2)\n",
        "#     def forward(self, x):\n",
        "#         x = self.layer1(x)\n",
        "#         x = self.layer2(x)\n",
        "#         x = self.layer3(x)\n",
        "#         x = x.view(x.size(0), -1)\n",
        "#         x = self.fclayer1(x)\n",
        "#         x = self.dropout(x)\n",
        "#         x_out = self.fclayer2(x)\n",
        "       \n",
        "#         return x_out\n",
        "\n",
        "            \n",
        "\n",
        "\n",
        "\n",
        "\n"
      ],
      "id": "5palKkCWaDkt",
      "execution_count": null,
      "outputs": []
    },
    {
      "cell_type": "code",
      "metadata": {
        "colab": {
          "base_uri": "https://localhost:8080/"
        },
        "id": "VBzGKezObjZJ",
        "outputId": "cd98e11b-8db8-4fc0-c77d-c732cf2c4f80"
      },
      "source": [
        "model_lenet = Lenet_5().to(device)\n",
        "model_lenet.apply(initWeights)"
      ],
      "id": "VBzGKezObjZJ",
      "execution_count": 14,
      "outputs": [
        {
          "output_type": "execute_result",
          "data": {
            "text/plain": [
              "Lenet_5(\n",
              "  (layer1): Sequential(\n",
              "    (0): Conv2d(1, 6, kernel_size=(5, 5), stride=(1, 1), padding=(2, 2))\n",
              "    (1): Tanh()\n",
              "    (2): AvgPool2d(kernel_size=2, stride=2, padding=0)\n",
              "  )\n",
              "  (layer2): Sequential(\n",
              "    (0): Conv2d(6, 16, kernel_size=(5, 5), stride=(1, 1))\n",
              "    (1): Tanh()\n",
              "    (2): AvgPool2d(kernel_size=2, stride=2, padding=0)\n",
              "  )\n",
              "  (layer3): Sequential(\n",
              "    (0): Conv2d(16, 120, kernel_size=(5, 5), stride=(1, 1))\n",
              "    (1): Tanh()\n",
              "  )\n",
              "  (fclayer1): Sequential(\n",
              "    (0): Linear(in_features=120, out_features=84, bias=True)\n",
              "    (1): Tanh()\n",
              "  )\n",
              "  (fclayer2): Sequential(\n",
              "    (0): Linear(in_features=84, out_features=10, bias=True)\n",
              "  )\n",
              ")"
            ]
          },
          "metadata": {
            "tags": []
          },
          "execution_count": 14
        }
      ]
    },
    {
      "cell_type": "code",
      "metadata": {
        "colab": {
          "base_uri": "https://localhost:8080/",
          "height": 188
        },
        "id": "mXmgZi5th2dB",
        "outputId": "ca26a328-8e11-4f80-9a09-9bf36ff8a81c"
      },
      "source": [
        "# model_lenet = Lenet_5_modified().to(device)\n",
        "# model_lenet.apply(initWeights)"
      ],
      "id": "mXmgZi5th2dB",
      "execution_count": 11,
      "outputs": [
        {
          "output_type": "error",
          "ename": "NameError",
          "evalue": "ignored",
          "traceback": [
            "\u001b[0;31m---------------------------------------------------------------------------\u001b[0m",
            "\u001b[0;31mNameError\u001b[0m                                 Traceback (most recent call last)",
            "\u001b[0;32m<ipython-input-11-a0d192cc23c8>\u001b[0m in \u001b[0;36m<module>\u001b[0;34m()\u001b[0m\n\u001b[0;32m----> 1\u001b[0;31m \u001b[0mmodel_lenet\u001b[0m \u001b[0;34m=\u001b[0m \u001b[0mLenet_5_modified\u001b[0m\u001b[0;34m(\u001b[0m\u001b[0;34m)\u001b[0m\u001b[0;34m.\u001b[0m\u001b[0mto\u001b[0m\u001b[0;34m(\u001b[0m\u001b[0mdevice\u001b[0m\u001b[0;34m)\u001b[0m\u001b[0;34m\u001b[0m\u001b[0;34m\u001b[0m\u001b[0m\n\u001b[0m\u001b[1;32m      2\u001b[0m \u001b[0mmodel_lenet\u001b[0m\u001b[0;34m.\u001b[0m\u001b[0mapply\u001b[0m\u001b[0;34m(\u001b[0m\u001b[0minitWeights\u001b[0m\u001b[0;34m)\u001b[0m\u001b[0;34m\u001b[0m\u001b[0;34m\u001b[0m\u001b[0m\n",
            "\u001b[0;31mNameError\u001b[0m: name 'Lenet_5_modified' is not defined"
          ]
        }
      ]
    },
    {
      "cell_type": "code",
      "metadata": {
        "colab": {
          "base_uri": "https://localhost:8080/"
        },
        "id": "E3FFokuCjsj4",
        "outputId": "89b75dd0-c6f6-40f9-cea0-9ab49276efa4"
      },
      "source": [
        "\n",
        "criterion = nn.CrossEntropyLoss()\n",
        "optimizer = torch.optim.Adam(model_lenet.parameters(), lr = learning_rate)\n",
        "scheduler = torch.optim.lr_scheduler.StepLR(optimizer, step_size=1000, gamma=0.9)\n",
        "\n",
        "\n",
        "model_lenet.train()\n",
        "loss_list_lenet = []\n",
        "for epoch in range(10):\n",
        "    avg_loss=0\n",
        "    for i, (imgs, labels) in enumerate(train_loader):\n",
        "        imgs, labels = imgs.to(device), labels.to(device)\n",
        "        optimizer.zero_grad() \n",
        "\n",
        "        prediction = model_lenet(imgs)  \n",
        "        \n",
        "        loss = criterion(prediction, labels)    \n",
        "                  \n",
        "        loss.backward()          \n",
        "        optimizer.step()\n",
        "        # scheduler.step()\n",
        "        avg_loss += loss.item()\n",
        "        \n",
        "        if (i+1) % 100 == 0:\n",
        "            print('[{},  {}]  loss: {}'.format(epoch+1,  i+1, loss.item()))\n",
        "    loss_list_lenet.append(avg_loss / len(train_loader))"
      ],
      "id": "E3FFokuCjsj4",
      "execution_count": 19,
      "outputs": [
        {
          "output_type": "stream",
          "text": [
            "[1,  100]  loss: 0.4105132222175598\n",
            "[1,  200]  loss: 0.5373636484146118\n",
            "[1,  300]  loss: 0.3721943795681\n",
            "[1,  400]  loss: 0.26092034578323364\n",
            "[1,  500]  loss: 0.3075355589389801\n",
            "[1,  600]  loss: 0.3608710467815399\n",
            "[2,  100]  loss: 0.3713463544845581\n",
            "[2,  200]  loss: 0.35779136419296265\n",
            "[2,  300]  loss: 0.37440958619117737\n",
            "[2,  400]  loss: 0.30330973863601685\n",
            "[2,  500]  loss: 0.3356502056121826\n",
            "[2,  600]  loss: 0.26909729838371277\n",
            "[3,  100]  loss: 0.3522796928882599\n",
            "[3,  200]  loss: 0.20619311928749084\n",
            "[3,  300]  loss: 0.271048903465271\n",
            "[3,  400]  loss: 0.26786741614341736\n",
            "[3,  500]  loss: 0.36844176054000854\n",
            "[3,  600]  loss: 0.2685846984386444\n",
            "[4,  100]  loss: 0.2825585603713989\n",
            "[4,  200]  loss: 0.20982390642166138\n",
            "[4,  300]  loss: 0.27710938453674316\n",
            "[4,  400]  loss: 0.44944560527801514\n",
            "[4,  500]  loss: 0.32547539472579956\n",
            "[4,  600]  loss: 0.427247017621994\n",
            "[5,  100]  loss: 0.32031190395355225\n",
            "[5,  200]  loss: 0.1961265206336975\n",
            "[5,  300]  loss: 0.25857779383659363\n",
            "[5,  400]  loss: 0.22411255538463593\n",
            "[5,  500]  loss: 0.21924202144145966\n",
            "[5,  600]  loss: 0.27302971482276917\n",
            "[6,  100]  loss: 0.29868632555007935\n",
            "[6,  200]  loss: 0.27210432291030884\n",
            "[6,  300]  loss: 0.40634140372276306\n",
            "[6,  400]  loss: 0.22827938199043274\n",
            "[6,  500]  loss: 0.27211907505989075\n",
            "[6,  600]  loss: 0.12027992308139801\n",
            "[7,  100]  loss: 0.15443038940429688\n",
            "[7,  200]  loss: 0.27928799390792847\n",
            "[7,  300]  loss: 0.18960721790790558\n",
            "[7,  400]  loss: 0.17493151128292084\n",
            "[7,  500]  loss: 0.1763884425163269\n",
            "[7,  600]  loss: 0.2510254383087158\n",
            "[8,  100]  loss: 0.14926677942276\n",
            "[8,  200]  loss: 0.10973329842090607\n",
            "[8,  300]  loss: 0.3174952566623688\n",
            "[8,  400]  loss: 0.1690681129693985\n",
            "[8,  500]  loss: 0.25821375846862793\n",
            "[8,  600]  loss: 0.23831458389759064\n",
            "[9,  100]  loss: 0.18541361391544342\n",
            "[9,  200]  loss: 0.12772832810878754\n",
            "[9,  300]  loss: 0.24976633489131927\n",
            "[9,  400]  loss: 0.22049979865550995\n",
            "[9,  500]  loss: 0.14486630260944366\n",
            "[9,  600]  loss: 0.31737878918647766\n",
            "[10,  100]  loss: 0.161177858710289\n",
            "[10,  200]  loss: 0.1241917684674263\n",
            "[10,  300]  loss: 0.22739729285240173\n",
            "[10,  400]  loss: 0.22649841010570526\n",
            "[10,  500]  loss: 0.21163564920425415\n",
            "[10,  600]  loss: 0.22068065404891968\n"
          ],
          "name": "stdout"
        }
      ]
    },
    {
      "cell_type": "code",
      "metadata": {
        "colab": {
          "base_uri": "https://localhost:8080/",
          "height": 300
        },
        "id": "3JkLunmnkNL1",
        "outputId": "aae07910-338b-4ae0-9f68-bc2ac8aeeccf"
      },
      "source": [
        "model_lenet.eval()\n",
        "with torch.no_grad():\n",
        "    correct = 0\n",
        "    total = 0\n",
        "    for i, (imgs, labels) in enumerate(test_loader):\n",
        "        imgs, labels = imgs.to(device), labels.to(device)\n",
        "        prediction = model_lenet(imgs)\n",
        "        _, argmax = torch.max(prediction, 1) \n",
        "        total += imgs.size(0)\n",
        "        correct += (labels == argmax).sum().item()\n",
        "        \n",
        "    print(' accuracy of the Lenet-5 network on {} images: {}%'.format(total, correct / total * 100))\n",
        "\n",
        "step = np.linspace(0,num_epochs,num_epochs)\n",
        "plt.plot(step,np.array(loss_list_lenet))"
      ],
      "id": "3JkLunmnkNL1",
      "execution_count": 20,
      "outputs": [
        {
          "output_type": "stream",
          "text": [
            " accuracy of the Lenet-5 network on 10000 images: 89.23%\n"
          ],
          "name": "stdout"
        },
        {
          "output_type": "execute_result",
          "data": {
            "text/plain": [
              "[<matplotlib.lines.Line2D at 0x7fe1a209d750>]"
            ]
          },
          "metadata": {
            "tags": []
          },
          "execution_count": 20
        },
        {
          "output_type": "display_data",
          "data": {
            "image/png": "[encoded data removed]",
            "text/plain": [
              "<Figure size 432x288 with 1 Axes>"
            ]
          },
          "metadata": {
            "tags": [],
            "needs_background": "light"
          }
        }
      ]
    },
    {
      "cell_type": "code",
      "metadata": {
        "id": "g47SOWHTh1m3"
      },
      "source": [
        ""
      ],
      "id": "g47SOWHTh1m3",
      "execution_count": null,
      "outputs": []
    },
    {
      "cell_type": "code",
      "metadata": {
        "id": "Cat2RcuVrE49"
      },
      "source": [
        ""
      ],
      "id": "Cat2RcuVrE49",
      "execution_count": null,
      "outputs": []
    }
  ]
}